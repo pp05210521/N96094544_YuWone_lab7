{
 "cells": [
  {
   "cell_type": "code",
   "execution_count": 2,
   "id": "ea6c1954-4686-4c64-9f41-f425bbcdb522",
   "metadata": {},
   "outputs": [],
   "source": [
    "import pygame\n",
    "from start_menu import StartMenu\n",
    "\n",
    "\n",
    "if __name__ == '__main__':\n",
    "    pygame.init()\n",
    "    m = StartMenu()\n",
    "    m.menu_run()"
   ]
  }
 ],
 "metadata": {
  "kernelspec": {
   "display_name": "Python 3",
   "language": "python",
   "name": "python3"
  },
  "language_info": {
   "codemirror_mode": {
    "name": "ipython",
    "version": 3
   },
   "file_extension": ".py",
   "mimetype": "text/x-python",
   "name": "python",
   "nbconvert_exporter": "python",
   "pygments_lexer": "ipython3",
   "version": "3.8.8"
  }
 },
 "nbformat": 4,
 "nbformat_minor": 5
}
